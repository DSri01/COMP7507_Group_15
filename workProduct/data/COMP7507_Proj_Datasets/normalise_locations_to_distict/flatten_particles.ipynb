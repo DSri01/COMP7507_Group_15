{
 "cells": [
  {
   "cell_type": "code",
   "execution_count": null,
   "id": "d27985d8",
   "metadata": {},
   "outputs": [],
   "source": [
    "import pandas as pd"
   ]
  },
  {
   "cell_type": "code",
   "execution_count": null,
   "id": "4d0c1ea9",
   "metadata": {},
   "outputs": [],
   "source": [
    "particles_df = pd.read_csv('particles_norm_dist')"
   ]
  }
 ],
 "metadata": {
  "kernelspec": {
   "display_name": "comp7507_proj_dataset_downloader",
   "language": "python",
   "name": "python3"
  },
  "language_info": {
   "name": "python",
   "version": "3.13.5"
  }
 },
 "nbformat": 4,
 "nbformat_minor": 5
}
