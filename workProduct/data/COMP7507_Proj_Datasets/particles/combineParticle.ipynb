{
 "cells": [
  {
   "cell_type": "markdown",
   "id": "7799946c",
   "metadata": {},
   "source": [
    "# Air Polutant Dataset Combiner\n",
    "\n",
    "Python Version: 3.13.5"
   ]
  },
  {
   "cell_type": "code",
   "execution_count": 69,
   "id": "308bb287",
   "metadata": {},
   "outputs": [],
   "source": [
    "import csv\n",
    "\n",
    "def read_csv_rows(absFilePath: str) -> list[list[str]]:\n",
    "    with open(absFilePath, mode = 'r') as f:\n",
    "        reader = csv.reader(f)\n",
    "        rows = []\n",
    "        for row in reader:\n",
    "            rows.append(row)\n",
    "        f.close()\n",
    "        return rows"
   ]
  },
  {
   "cell_type": "code",
   "execution_count": 70,
   "id": "ce850f46",
   "metadata": {},
   "outputs": [],
   "source": [
    "import os\n",
    "\n",
    "REL_FILE_PATHS = [\n",
    "    os.path.join(os.getcwd(), \"rawData\", \"air_daily_2010_2016.csv\"),\n",
    "    os.path.join(os.getcwd(), \"rawData\", \"air_daily_2017_2024.csv\")\n",
    "]"
   ]
  },
  {
   "cell_type": "code",
   "execution_count": 71,
   "id": "c5df0c6d",
   "metadata": {},
   "outputs": [],
   "source": [
    "COL_TO_LOCATION_MAP = {\n",
    "    # 0 indexed column number to location mapping\n",
    "    2   : \"SHATIN\",\n",
    "    3   : \"TSUEN WAN\",\n",
    "    4   : \"CENTRAL\",\n",
    "    5   : \"EASTERN\",\n",
    "    6   : \"KWUN TONG\",\n",
    "    7   : \"TUEN MUN\",\n",
    "    8   : \"TUNG CHUNG\",\n",
    "    9   : \"SHAM SHUI PO\",\n",
    "    10  : \"SOUTHERN\",\n",
    "    11  : \"YUEN LONG\",\n",
    "    12  : \"CENTRAL/WESTERN\",\n",
    "    13  : \"NORTH\",\n",
    "    14  : \"KWAI CHUNG\",\n",
    "    15  : \"TAP MUN\",\n",
    "    16  : \"TSEUNG KWAN O\",\n",
    "    17  : \"TAI PO\",\n",
    "    18  : \"MONG KOK\",\n",
    "    19  : \"CAUSEWAY BAY\"\n",
    "}"
   ]
  },
  {
   "cell_type": "code",
   "execution_count": 72,
   "id": "f28751ff",
   "metadata": {},
   "outputs": [],
   "source": [
    "POLLUTANTS = [\n",
    "    \"Carbon Monoxide\",\n",
    "    \"Fine Suspended Particulates\",\n",
    "    \"Nitrogen Dioxide\",\n",
    "    \"Nitrogen Oxides\",\n",
    "    \"Ozone\",\n",
    "    \"Respirable Suspended Particulates\",\n",
    "    \"Sulphur Dioxide\"\n",
    "]\n",
    "\n",
    "POLLUTANT_ACRONYM = {\n",
    "    \"Carbon Monoxide\"                   :   \"CO\",\n",
    "    \"Fine Suspended Particulates\"       :   \"FSP\",\n",
    "    \"Nitrogen Dioxide\"                  :   \"NO2\",\n",
    "    \"Nitrogen Oxides\"                   :   \"NOX\",\n",
    "    \"Ozone\"                             :   \"O3\",\n",
    "    \"Respirable Suspended Particulates\" :   \"RSP\",\n",
    "    \"Sulphur Dioxide\"                   :   \"SO2\"\n",
    "}"
   ]
  },
  {
   "cell_type": "code",
   "execution_count": 73,
   "id": "9b8afae3",
   "metadata": {},
   "outputs": [],
   "source": [
    "from dataclasses import dataclass\n",
    "\n",
    "@dataclass\n",
    "class CustomDate:\n",
    "    year    :   int\n",
    "    month   :   int\n",
    "    day     :   int\n",
    "\n",
    "def dateSplitter(dashFormatDate: str) -> CustomDate:\n",
    "    \"\"\"\n",
    "    Date formatted as dd-mm-yyyy\n",
    "    \"\"\"\n",
    "    return CustomDate(year=int(dashFormatDate[6:]),\n",
    "                      month=int(dashFormatDate[3:5]),\n",
    "                      day=int(dashFormatDate[0:2]))"
   ]
  },
  {
   "cell_type": "code",
   "execution_count": 74,
   "id": "c2dcb834",
   "metadata": {},
   "outputs": [],
   "source": [
    "from typing import Literal, Union, Self\n",
    "\n",
    "from pydantic import BaseModel, model_validator\n",
    "\n",
    "class PollutantDatapoint(BaseModel):\n",
    "    year            :   int\n",
    "    month           :   int\n",
    "    day             :   int\n",
    "    location        :   Literal[\"SHATIN\",\"TSUEN WAN\",\"CENTRAL\",\"EASTERN\",\"KWUN TONG\",\"TUEN MUN\",\"TUNG CHUNG\",\"SHAM SHUI PO\",\"SOUTHERN\",\"YUEN LONG\",\"CENTRAL/WESTERN\",\"NORTH\",\"KWAI CHUNG\",\"TAP MUN\",\"TSEUNG KWAN O\",\"TAI PO\",\"MONG KOK\",\"CAUSEWAY BAY\"]\n",
    "    pollutantType   :   Literal[\"Carbon Monoxide\",\"Fine Suspended Particulates\",\"Nitrogen Dioxide\",\"Nitrogen Oxides\",\"Ozone\",\"Respirable Suspended Particulates\",\"Sulphur Dioxide\"]\n",
    "    pollutantAcronym:   Literal[\"CO\", \"FSP\", \"NO2\", \"NOX\", \"O3\", \"RSP\", \"SO2\"]\n",
    "    value           :   Union[float, Literal[\"N.A.\"]]\n",
    "    unit            :   Literal[\"μg/m3\", \"10μg/m3\"]\n",
    "\n",
    "    @model_validator(mode=\"after\")\n",
    "    def check_unit_matches(self) -> Self:\n",
    "        if self.pollutantAcronym == \"CO\":\n",
    "            if self.unit != \"10μg/m3\":\n",
    "                raise ValueError(\"Pollutant(CO)+Unit Mismatch\")\n",
    "        else:\n",
    "            if self.unit != \"μg/m3\":\n",
    "                raise ValueError(\"Pollutant(non-CO)+Unit Mismatch\")\n",
    "        return self"
   ]
  },
  {
   "cell_type": "code",
   "execution_count": 75,
   "id": "a654702a",
   "metadata": {},
   "outputs": [],
   "source": [
    "rows2010_2016 = read_csv_rows(REL_FILE_PATHS[0])\n",
    "rows2010_2016 = rows2010_2016[14:]\n",
    "\n",
    "rows2017_2024 = read_csv_rows(REL_FILE_PATHS[1])\n",
    "rows2017_2024 = rows2017_2024[14:]\n",
    "\n",
    "rows: list[list[str]] = []\n",
    "\n",
    "rows.extend(rows2010_2016)\n",
    "rows.extend(rows2017_2024)"
   ]
  },
  {
   "cell_type": "code",
   "execution_count": 76,
   "id": "a517be6b",
   "metadata": {},
   "outputs": [],
   "source": [
    "def convert_row_to_pollutant_datapoints(row: list[str])-> list[PollutantDatapoint]:\n",
    "    \"\"\"\n",
    "    one row generates many datapoints (one for each location)\n",
    "    \"\"\"\n",
    "    date = dateSplitter(row[0])\n",
    "    pollutantType = (row[1]).strip()\n",
    "    pollutantAcronym = POLLUTANT_ACRONYM[pollutantType]\n",
    "    unit = \"10μg/m3\" if (pollutantAcronym == \"CO\") else \"μg/m3\"\n",
    "\n",
    "    datapoints: list[PollutantDatapoint] = []\n",
    "    # columns 2 to 19 (inclusive)\n",
    "    for index in range(2, 20):\n",
    "        location = COL_TO_LOCATION_MAP[index]\n",
    "        value = row[index]\n",
    "        datapoint = PollutantDatapoint(year     = date.year,\n",
    "                                        month   = date.month,\n",
    "                                        day     = date.day,\n",
    "                                        location= location,\n",
    "                                        pollutantType= pollutantType,\n",
    "                                        pollutantAcronym= pollutantAcronym,\n",
    "                                        value = value,\n",
    "                                        unit = unit\n",
    "                                    )\n",
    "        datapoints.append(datapoint)\n",
    "    \n",
    "    return datapoints"
   ]
  },
  {
   "cell_type": "code",
   "execution_count": 77,
   "id": "6a85755c",
   "metadata": {},
   "outputs": [],
   "source": [
    "combined_datapoint_list: list[PollutantDatapoint] = []\n",
    "\n",
    "for row in rows:\n",
    "    generated_datapoints = convert_row_to_pollutant_datapoints(row)\n",
    "    combined_datapoint_list.extend(generated_datapoints)"
   ]
  },
  {
   "cell_type": "code",
   "execution_count": 78,
   "id": "d2795c51",
   "metadata": {},
   "outputs": [],
   "source": [
    "def save_datapoint_list(datapoint_list: list[BaseModel], absFilePath: str):\n",
    "    with open(absFilePath, mode=\"w\") as f:\n",
    "        for datapoint in datapoint_list:\n",
    "            f.write(datapoint.model_dump_json())\n",
    "            f.write(\"\\n\")\n",
    "        f.close()"
   ]
  },
  {
   "cell_type": "code",
   "execution_count": 79,
   "id": "8b349c17",
   "metadata": {},
   "outputs": [],
   "source": [
    "import os\n",
    "\n",
    "saveFilePath = os.path.join(os.getcwd(), \"cleaned\", \"combinedParticles.jsonl\")\n",
    "save_datapoint_list(combined_datapoint_list, saveFilePath)"
   ]
  }
 ],
 "metadata": {
  "kernelspec": {
   "display_name": "comp7507_proj_dataset_downloader",
   "language": "python",
   "name": "python3"
  },
  "language_info": {
   "codemirror_mode": {
    "name": "ipython",
    "version": 3
   },
   "file_extension": ".py",
   "mimetype": "text/x-python",
   "name": "python",
   "nbconvert_exporter": "python",
   "pygments_lexer": "ipython3",
   "version": "3.13.5"
  }
 },
 "nbformat": 4,
 "nbformat_minor": 5
}
