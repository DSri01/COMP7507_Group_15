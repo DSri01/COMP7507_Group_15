{
 "cells": [
  {
   "cell_type": "markdown",
   "id": "0d8f8e29",
   "metadata": {},
   "source": [
    "# Temperature Dataset Downloader\n",
    "\n",
    "Python Version: 3.13.5"
   ]
  },
  {
   "cell_type": "code",
   "execution_count": 18,
   "id": "a78b81ee",
   "metadata": {},
   "outputs": [],
   "source": [
    "from typing import Literal\n",
    "\n",
    "def getBaseUrl(dataType: Literal[\"CLMTEMP\", \"CLMMAXT\", \"CLMMINT\"],\n",
    "           rformat: Literal[\"csv\", \"json\"] = \"csv\",\n",
    "           lang: str = \"en\") -> str:\n",
    "    return f\"https://data.weather.gov.hk/weatherAPI/opendata/opendata.php?dataType={dataType}&lang={lang}&rformat={rformat}\""
   ]
  },
  {
   "cell_type": "code",
   "execution_count": 19,
   "id": "19b71a08",
   "metadata": {},
   "outputs": [],
   "source": [
    "# period for data collection\n",
    "START_YEAR  = 2014\n",
    "END_YEAR    = 2025"
   ]
  },
  {
   "cell_type": "markdown",
   "id": "bdf9478e",
   "metadata": {},
   "source": [
    "## Daily Mean Temperature"
   ]
  },
  {
   "cell_type": "code",
   "execution_count": 20,
   "id": "3d8c2f64",
   "metadata": {},
   "outputs": [],
   "source": [
    "from pydantic import BaseModel\n",
    "from typing import Union, Literal\n",
    "\n",
    "class MeanTemperatureDataPoint(BaseModel):\n",
    "    year            :   int\n",
    "    month           :   int\n",
    "    day             :   int\n",
    "    station         :   str\n",
    "    value           :   Union[float, Literal[\"***\",]]\n",
    "    completeness    :   Literal[\"C\", \"#\", '']"
   ]
  },
  {
   "cell_type": "code",
   "execution_count": 21,
   "id": "d30cebfa",
   "metadata": {},
   "outputs": [],
   "source": [
    "MEAN_TEMP_STATIONS = [\n",
    "\"CCH\", # Cheung Chau\n",
    "\"CWB\", # Clear Water Bay\n",
    "\"HKA\", # Hong Kong International Airport\n",
    "\"HKO\", # Hong Kong Observatory\n",
    "\"HKP\", # Hong Kong Park\n",
    "\"HKS\", # Wong Chuk Hang\n",
    "\"HPV\", # Happy Valley\n",
    "\"JKB\", # Tseung Kwan O\n",
    "\"KLT\", # Kowloon City\n",
    "\"KP\" , # King's Park\n",
    "\"KSC\", # Kau Sai Chau\n",
    "\"KTG\", # Kwun Tong\n",
    "\"LFS\", # Lau Fau Shan\n",
    "\"NGP\", # Ngong Ping\n",
    "\"PEN\", # Peng Chau\n",
    "\"PLC\", # Tai Mei Tuk\n",
    "\"SE1\", # Kai Tak Runway Park\n",
    "\"SEK\", # Shek Kong\n",
    "\"SHA\", # Sha Tin\n",
    "\"SKG\", # Sai Kung\n",
    "\"SKW\", # Shau Kei Wan\n",
    "\"SSH\", # Sheung Shui\n",
    "\"SSP\", # Sham Shui Po\n",
    "\"STY\", # Stanley\n",
    "\"TC\" , # Tate's Cairn\n",
    "\"TKL\", # Ta Kwu Ling\n",
    "\"TMS\", # Tai Mo Shan\n",
    "\"TPO\", # Tai Po (Conservation Studies Centre)\n",
    "\"TU1\", # Tuen Mun Children and Juvenile Home\n",
    "\"TW\" , # Tsuen Wan Shing Mun Valley\n",
    "\"TWN\", # Tsuen Wan\n",
    "\"TY1\", # New Tsing Yi Station\n",
    "\"TYW\", # Pak Tam Chung (Tsak Yue Wu)\n",
    "\"VP1\", # The Peak\n",
    "\"WGL\", # Waglan Island\n",
    "\"WLP\", # Wetland Park\n",
    "\"WTS\", # Wong Tai Sin\n",
    "\"YCT\", # Tai Po (Yuan Chau Tsai Park)\n",
    "\"YLP\", # Yuen Long Park\n",
    "]"
   ]
  },
  {
   "cell_type": "code",
   "execution_count": 22,
   "id": "c8bc3c6d",
   "metadata": {},
   "outputs": [],
   "source": [
    "import requests\n",
    "def getDailyMeanTempJSON(year: int, station: str) -> list[MeanTemperatureDataPoint]:\n",
    "    url = f\"{getBaseUrl(\"CLMTEMP\", \"json\")}&year={year}&station={station}\"\n",
    "    response = requests.get(url)\n",
    "    if (response.status_code != 200):\n",
    "        raise Exception(f\"DMT - unexpected status code ({response.status_code}) for y=({year}), s=({station}). Response Text: {response.text}\")\n",
    "    try:\n",
    "        raw_data =  response.json()\n",
    "    except Exception as e:\n",
    "        raise e\n",
    "    # data = list[['年/Year','月/Month','日/Day','數值/Value', '數據完整性/data Completeness']]\n",
    "    # 'legend': ['*** 沒有數據/unavailable','# 數據不完整/data incomplete','C 數據完整/data Complete']\n",
    "\n",
    "    datapoint_list: list[MeanTemperatureDataPoint] = []\n",
    "\n",
    "    for row in raw_data[\"data\"]:\n",
    "        datapoint = MeanTemperatureDataPoint(station=station,\n",
    "                                             year        = row[0],\n",
    "                                             month       = row[1],\n",
    "                                             day         = row[2],\n",
    "                                             value       = row[3],\n",
    "                                             completeness= row[4])\n",
    "        datapoint_list.append(datapoint)\n",
    "    return datapoint_list"
   ]
  },
  {
   "cell_type": "code",
   "execution_count": 23,
   "id": "5bdf7f1d",
   "metadata": {},
   "outputs": [
    {
     "name": "stdout",
     "output_type": "stream",
     "text": [
      "Mean Temperature Download Error: could not load y=(2014) station=(CWB) e=(Expecting value: line 1 column 1 (char 0))\n",
      "Mean Temperature Download Error: could not load y=(2015) station=(CWB) e=(Expecting value: line 1 column 1 (char 0))\n",
      "Mean Temperature Download Error: could not load y=(2016) station=(CWB) e=(Expecting value: line 1 column 1 (char 0))\n",
      "Mean Temperature Download Error: could not load y=(2017) station=(CWB) e=(Expecting value: line 1 column 1 (char 0))\n",
      "Mean Temperature Download Error: could not load y=(2023) station=(TPO) e=(Expecting value: line 1 column 1 (char 0))\n",
      "Mean Temperature Download Error: could not load y=(2024) station=(TPO) e=(Expecting value: line 1 column 1 (char 0))\n",
      "Mean Temperature Download Error: could not load y=(2025) station=(TPO) e=(Expecting value: line 1 column 1 (char 0))\n",
      "Mean Temperature Download Error: could not load y=(2014) station=(YCT) e=(Expecting value: line 1 column 1 (char 0))\n",
      "Mean Temperature Download Error: could not load y=(2015) station=(YCT) e=(Expecting value: line 1 column 1 (char 0))\n",
      "Mean Temperature Download Error: could not load y=(2016) station=(YCT) e=(Expecting value: line 1 column 1 (char 0))\n",
      "Mean Temperature Download Error: could not load y=(2017) station=(YCT) e=(Expecting value: line 1 column 1 (char 0))\n",
      "Mean Temperature Download Error: could not load y=(2018) station=(YCT) e=(Expecting value: line 1 column 1 (char 0))\n",
      "Mean Temperature Download Error: could not load y=(2019) station=(YCT) e=(Expecting value: line 1 column 1 (char 0))\n",
      "Mean Temperature Download Error: could not load y=(2020) station=(YCT) e=(Expecting value: line 1 column 1 (char 0))\n",
      "Mean Temperature Download Error: could not load y=(2021) station=(YCT) e=(Expecting value: line 1 column 1 (char 0))\n",
      "Mean Temperature Download Error: could not load y=(2014) station=(YLP) e=(Expecting value: line 1 column 1 (char 0))\n"
     ]
    }
   ],
   "source": [
    "mean_datapoint_list: list[MeanTemperatureDataPoint] = []\n",
    "for station in MEAN_TEMP_STATIONS:\n",
    "    for year in range(START_YEAR, END_YEAR + 1):\n",
    "        try:\n",
    "            mean_datapoint_list.extend(getDailyMeanTempJSON(year, station))\n",
    "        except Exception as e:\n",
    "            print(f\"Mean Temperature Download Error: could not load y=({year}) station=({station}) e=({e})\")\n",
    "\n"
   ]
  },
  {
   "cell_type": "code",
   "execution_count": 24,
   "id": "c27563de",
   "metadata": {},
   "outputs": [],
   "source": [
    "def save_datapoint_list(datapoint_list: list[BaseModel], absFilePath: str):\n",
    "    with open(absFilePath, mode=\"w\") as f:\n",
    "        for datapoint in datapoint_list:\n",
    "            f.write(datapoint.model_dump_json())\n",
    "            f.write(\"\\n\")\n",
    "        f.close()"
   ]
  },
  {
   "cell_type": "code",
   "execution_count": 25,
   "id": "5209542a",
   "metadata": {},
   "outputs": [],
   "source": [
    "import os\n",
    "\n",
    "saveFilePath = os.path.join(os.getcwd(), \"files\", \"meanTemperature.jsonl\")\n",
    "\n",
    "save_datapoint_list(mean_datapoint_list, saveFilePath)"
   ]
  },
  {
   "cell_type": "markdown",
   "id": "e045dc08",
   "metadata": {},
   "source": [
    "## Daily Max Temperature"
   ]
  },
  {
   "cell_type": "code",
   "execution_count": 26,
   "id": "01a30cba",
   "metadata": {},
   "outputs": [],
   "source": [
    "from pydantic import BaseModel\n",
    "from typing import Union, Literal\n",
    "\n",
    "class MaxTemperatureDataPoint(BaseModel):\n",
    "    year            :   int\n",
    "    month           :   int\n",
    "    day             :   int\n",
    "    station         :   str\n",
    "    value           :   Union[float, Literal[\"***\",]]\n",
    "    completeness    :   Literal[\"C\", \"#\", '']"
   ]
  },
  {
   "cell_type": "code",
   "execution_count": 27,
   "id": "28eec77e",
   "metadata": {},
   "outputs": [],
   "source": [
    "MAX_TEMP_STATIONS = [\n",
    "\"CCH\",   # Cheung Chau\n",
    "\"CWB\",   # Clear Water Bay\n",
    "\"HKA\",   # Hong Kong International Airport\n",
    "\"HKO\",   # Hong Kong Observatory\n",
    "\"HKP\",   # Hong Kong Park\n",
    "\"HKS\",   # Wong Chuk Hang\n",
    "\"HPV\",   # Happy Valley\n",
    "\"JKB\",   # Tseung Kwan O\n",
    "\"KLT\",   # Kowloon City\n",
    "\"KP\" ,   # King's Park\n",
    "\"KSC\",   # Kau Sai Chau\n",
    "\"KTG\",   # Kwun Tong\n",
    "\"LFS\",   # Lau Fau Shan\n",
    "\"NGP\",   # Ngong Ping\n",
    "\"PEN\",   # Peng Chau\n",
    "\"PLC\",   # Tai Mei Tuk\n",
    "\"SE1\",   # Kai Tak Runway Park\n",
    "\"SEK\",   # Shek Kong\n",
    "\"SHA\",   # Sha Tin\n",
    "\"SKG\",   # Sai Kung\n",
    "\"SKW\",   # Shau Kei Wan\n",
    "\"SSH\",   # Sheung Shui\n",
    "\"SSP\",   # Sham Shui Po\n",
    "\"STY\",   # Stanley\n",
    "\"TC\" ,   # Tate's Cairn\n",
    "\"TKL\",   # Ta Kwu Ling\n",
    "\"TMS\",   # Tai Mo Shan\n",
    "\"TPO\",   # Tai Po (Conservation Studies Centre)\n",
    "\"TU1\",   # Tuen Mun Children and Juvenile Home\n",
    "\"TW\" ,   # Tsuen Wan Shing Mun Valley\n",
    "\"TWN\",   # Tsuen Wan\n",
    "\"TY1\",   # New Tsing Yi Station\n",
    "\"TYW\",   # Pak Tam Chung (Tsak Yue Wu)\n",
    "\"VP1\",   # The Peak\n",
    "\"WGL\",   # Waglan Island\n",
    "\"WLP\",   # Wetland Park\n",
    "\"WTS\",   # Wong Tai Sin\n",
    "\"YCT\",   # Tai Po (Yuan Chau Tsai Park)\n",
    "\"YLP\",   # Yuen Long Park\n",
    "]"
   ]
  },
  {
   "cell_type": "code",
   "execution_count": null,
   "id": "e6abf1df",
   "metadata": {},
   "outputs": [],
   "source": [
    "import requests\n",
    "def getDailyMaxTempJSON(year: int, station: str) -> list[MaxTemperatureDataPoint]:\n",
    "    url = f\"{getBaseUrl(\"CLMMAXT\", \"json\")}&year={year}&station={station}\"\n",
    "    response = requests.get(url)\n",
    "    if (response.status_code != 200):\n",
    "        raise Exception(f\"DailyMaxTemp - unexpected status code ({response.status_code}) for y=({year}), s=({station}). Response Text: {response.text}\")\n",
    "    try:\n",
    "        raw_data =  response.json()\n",
    "    except Exception as e:\n",
    "        raise e\n",
    "    # data = list[['年/Year','月/Month','日/Day','數值/Value', '數據完整性/data Completeness']]\n",
    "    # 'legend': ['*** 沒有數據/unavailable','# 數據不完整/data incomplete','C 數據完整/data Complete']\n",
    "\n",
    "    datapoint_list: list[MaxTemperatureDataPoint] = []\n",
    "\n",
    "    for row in raw_data[\"data\"]:\n",
    "        datapoint = MaxTemperatureDataPoint(station=station,\n",
    "                                             year        = row[0],\n",
    "                                             month       = row[1],\n",
    "                                             day         = row[2],\n",
    "                                             value       = row[3],\n",
    "                                             completeness= row[4])\n",
    "        datapoint_list.append(datapoint)\n",
    "    return datapoint_list"
   ]
  },
  {
   "cell_type": "code",
   "execution_count": 30,
   "id": "38413c23",
   "metadata": {},
   "outputs": [
    {
     "name": "stdout",
     "output_type": "stream",
     "text": [
      "Max Temperature Download Error: could not load y=(2014) station=(CWB) e=(Expecting value: line 1 column 1 (char 0))\n",
      "Max Temperature Download Error: could not load y=(2015) station=(CWB) e=(Expecting value: line 1 column 1 (char 0))\n",
      "Max Temperature Download Error: could not load y=(2016) station=(CWB) e=(Expecting value: line 1 column 1 (char 0))\n",
      "Max Temperature Download Error: could not load y=(2017) station=(CWB) e=(Expecting value: line 1 column 1 (char 0))\n",
      "Max Temperature Download Error: could not load y=(2023) station=(TPO) e=(Expecting value: line 1 column 1 (char 0))\n",
      "Max Temperature Download Error: could not load y=(2024) station=(TPO) e=(Expecting value: line 1 column 1 (char 0))\n",
      "Max Temperature Download Error: could not load y=(2025) station=(TPO) e=(Expecting value: line 1 column 1 (char 0))\n",
      "Max Temperature Download Error: could not load y=(2014) station=(YCT) e=(Expecting value: line 1 column 1 (char 0))\n",
      "Max Temperature Download Error: could not load y=(2015) station=(YCT) e=(Expecting value: line 1 column 1 (char 0))\n",
      "Max Temperature Download Error: could not load y=(2016) station=(YCT) e=(Expecting value: line 1 column 1 (char 0))\n",
      "Max Temperature Download Error: could not load y=(2017) station=(YCT) e=(Expecting value: line 1 column 1 (char 0))\n",
      "Max Temperature Download Error: could not load y=(2018) station=(YCT) e=(Expecting value: line 1 column 1 (char 0))\n",
      "Max Temperature Download Error: could not load y=(2019) station=(YCT) e=(Expecting value: line 1 column 1 (char 0))\n",
      "Max Temperature Download Error: could not load y=(2020) station=(YCT) e=(Expecting value: line 1 column 1 (char 0))\n",
      "Max Temperature Download Error: could not load y=(2021) station=(YCT) e=(Expecting value: line 1 column 1 (char 0))\n",
      "Max Temperature Download Error: could not load y=(2014) station=(YLP) e=(Expecting value: line 1 column 1 (char 0))\n"
     ]
    }
   ],
   "source": [
    "max_datapoint_list: list[MaxTemperatureDataPoint] = []\n",
    "for station in MAX_TEMP_STATIONS:\n",
    "    for year in range(START_YEAR, END_YEAR + 1):\n",
    "        try:\n",
    "            max_datapoint_list.extend(getDailyMaxTempJSON(year, station))\n",
    "        except Exception as e:\n",
    "            print(f\"Max Temperature Download Error: could not load y=({year}) station=({station}) e=({e})\")"
   ]
  },
  {
   "cell_type": "code",
   "execution_count": 31,
   "id": "33ed5b7b",
   "metadata": {},
   "outputs": [],
   "source": [
    "import os\n",
    "\n",
    "saveFilePath = os.path.join(os.getcwd(), \"files\", \"maxTemperature.jsonl\")\n",
    "save_datapoint_list(max_datapoint_list, saveFilePath)"
   ]
  },
  {
   "cell_type": "markdown",
   "id": "fe8b271f",
   "metadata": {},
   "source": [
    "## Daily Min Temperature"
   ]
  },
  {
   "cell_type": "code",
   "execution_count": 32,
   "id": "2846a93a",
   "metadata": {},
   "outputs": [],
   "source": [
    "from pydantic import BaseModel\n",
    "from typing import Union, Literal\n",
    "\n",
    "class MinTemperatureDataPoint(BaseModel):\n",
    "    year            :   int\n",
    "    month           :   int\n",
    "    day             :   int\n",
    "    station         :   str\n",
    "    value           :   Union[float, Literal[\"***\",]]\n",
    "    completeness    :   Literal[\"C\", \"#\", '']"
   ]
  },
  {
   "cell_type": "code",
   "execution_count": 33,
   "id": "fc6cfde5",
   "metadata": {},
   "outputs": [],
   "source": [
    "MIN_TEMP_STATIONS = [\n",
    "\"CCH\",   # Cheung Chau\n",
    "\"CWB\",   # Clear Water Bay\n",
    "\"HKA\",   # Hong Kong International Airport\n",
    "\"HKO\",   # Hong Kong Observatory\n",
    "\"HKP\",   # Hong Kong Park\n",
    "\"HKS\",   # Wong Chuk Hang\n",
    "\"HPV\",   # Happy Valley\n",
    "\"JKB\",   # Tseung Kwan O\n",
    "\"KLT\",   # Kowloon City\n",
    "\"KP\" ,   # King's Park\n",
    "\"KSC\",   # Kau Sai Chau\n",
    "\"KTG\",   # Kwun Tong\n",
    "\"LFS\",   # Lau Fau Shan\n",
    "\"NGP\",   # Ngong Ping\n",
    "\"PEN\",   # Peng Chau\n",
    "\"PLC\",   # Tai Mei Tuk\n",
    "\"SE1\",   # Kai Tak Runway Park\n",
    "\"SEK\",   # Shek Kong\n",
    "\"SHA\",   # Sha Tin\n",
    "\"SKG\",   # Sai Kung\n",
    "\"SKW\",   # Shau Kei Wan\n",
    "\"SSH\",   # Sheung Shui\n",
    "\"SSP\",   # Sham Shui Po\n",
    "\"STY\",   # Stanley\n",
    "\"TC\" ,   # Tate's Cairn\n",
    "\"TKL\",   # Ta Kwu Ling\n",
    "\"TMS\",   # Tai Mo Shan\n",
    "\"TPO\",   # Tai Po (Conservation Studies Centre)\n",
    "\"TU1\",   # Tuen Mun Children and Juvenile Home\n",
    "\"TW\" ,   # Tsuen Wan Shing Mun Valley\n",
    "\"TWN\",   # Tsuen Wan\n",
    "\"TY1\",   # New Tsing Yi Station\n",
    "\"TYW\",   # Pak Tam Chung (Tsak Yue Wu)\n",
    "\"VP1\",   # The Peak\n",
    "\"WGL\",   # Waglan Island\n",
    "\"WLP\",   # Wetland Park\n",
    "\"WTS\",   # Wong Tai Sin\n",
    "\"YCT\",   # Tai Po (Yuan Chau Tsai Park)\n",
    "\"YLP\",   # Yuen Long Park\n",
    "]"
   ]
  },
  {
   "cell_type": "code",
   "execution_count": 34,
   "id": "9a8d88f3",
   "metadata": {},
   "outputs": [],
   "source": [
    "import requests\n",
    "def getDailyMinTempJSON(year: int, station: str) -> list[MinTemperatureDataPoint]:\n",
    "    url = f\"{getBaseUrl(\"CLMMINT\", \"json\")}&year={year}&station={station}\"\n",
    "    response = requests.get(url)\n",
    "    if (response.status_code != 200):\n",
    "        raise Exception(f\"DMT - unexpected status code ({response.status_code}) for y=({year}), s=({station}). Response Text: {response.text}\")\n",
    "    try:\n",
    "        raw_data =  response.json()\n",
    "    except Exception as e:\n",
    "        raise e\n",
    "    # data = list[['年/Year','月/Month','日/Day','數值/Value', '數據完整性/data Completeness']]\n",
    "    # 'legend': ['*** 沒有數據/unavailable','# 數據不完整/data incomplete','C 數據完整/data Complete']\n",
    "\n",
    "    datapoint_list: list[MinTemperatureDataPoint] = []\n",
    "\n",
    "    for row in raw_data[\"data\"]:\n",
    "        datapoint = MinTemperatureDataPoint(station=station,\n",
    "                                             year        = row[0],\n",
    "                                             month       = row[1],\n",
    "                                             day         = row[2],\n",
    "                                             value       = row[3],\n",
    "                                             completeness= row[4])\n",
    "        datapoint_list.append(datapoint)\n",
    "    return datapoint_list"
   ]
  },
  {
   "cell_type": "code",
   "execution_count": 35,
   "id": "4401ca84",
   "metadata": {},
   "outputs": [
    {
     "name": "stdout",
     "output_type": "stream",
     "text": [
      "Min Temperature Download Error: could not load y=(2014) station=(CWB) e=(Expecting value: line 1 column 1 (char 0))\n",
      "Min Temperature Download Error: could not load y=(2015) station=(CWB) e=(Expecting value: line 1 column 1 (char 0))\n",
      "Min Temperature Download Error: could not load y=(2016) station=(CWB) e=(Expecting value: line 1 column 1 (char 0))\n",
      "Min Temperature Download Error: could not load y=(2017) station=(CWB) e=(Expecting value: line 1 column 1 (char 0))\n",
      "Min Temperature Download Error: could not load y=(2023) station=(TPO) e=(Expecting value: line 1 column 1 (char 0))\n",
      "Min Temperature Download Error: could not load y=(2024) station=(TPO) e=(Expecting value: line 1 column 1 (char 0))\n",
      "Min Temperature Download Error: could not load y=(2025) station=(TPO) e=(Expecting value: line 1 column 1 (char 0))\n",
      "Min Temperature Download Error: could not load y=(2014) station=(YCT) e=(Expecting value: line 1 column 1 (char 0))\n",
      "Min Temperature Download Error: could not load y=(2015) station=(YCT) e=(Expecting value: line 1 column 1 (char 0))\n",
      "Min Temperature Download Error: could not load y=(2016) station=(YCT) e=(Expecting value: line 1 column 1 (char 0))\n",
      "Min Temperature Download Error: could not load y=(2017) station=(YCT) e=(Expecting value: line 1 column 1 (char 0))\n",
      "Min Temperature Download Error: could not load y=(2018) station=(YCT) e=(Expecting value: line 1 column 1 (char 0))\n",
      "Min Temperature Download Error: could not load y=(2019) station=(YCT) e=(Expecting value: line 1 column 1 (char 0))\n",
      "Min Temperature Download Error: could not load y=(2020) station=(YCT) e=(Expecting value: line 1 column 1 (char 0))\n",
      "Min Temperature Download Error: could not load y=(2021) station=(YCT) e=(Expecting value: line 1 column 1 (char 0))\n",
      "Min Temperature Download Error: could not load y=(2014) station=(YLP) e=(Expecting value: line 1 column 1 (char 0))\n"
     ]
    }
   ],
   "source": [
    "min_datapoint_list: list[MinTemperatureDataPoint] = []\n",
    "for station in MIN_TEMP_STATIONS:\n",
    "    for year in range(START_YEAR, END_YEAR + 1):\n",
    "        try:\n",
    "            min_datapoint_list.extend(getDailyMinTempJSON(year, station))\n",
    "        except Exception as e:\n",
    "            print(f\"Min Temperature Download Error: could not load y=({year}) station=({station}) e=({e})\")"
   ]
  },
  {
   "cell_type": "code",
   "execution_count": 36,
   "id": "e83e985e",
   "metadata": {},
   "outputs": [],
   "source": [
    "import os\n",
    "\n",
    "saveFilePath = os.path.join(os.getcwd(), \"files\", \"minTemperature.jsonl\")\n",
    "save_datapoint_list(min_datapoint_list, saveFilePath)"
   ]
  }
 ],
 "metadata": {
  "kernelspec": {
   "display_name": "comp7507_proj_dataset_downloader",
   "language": "python",
   "name": "python3"
  },
  "language_info": {
   "codemirror_mode": {
    "name": "ipython",
    "version": 3
   },
   "file_extension": ".py",
   "mimetype": "text/x-python",
   "name": "python",
   "nbconvert_exporter": "python",
   "pygments_lexer": "ipython3",
   "version": "3.13.5"
  }
 },
 "nbformat": 4,
 "nbformat_minor": 5
}
