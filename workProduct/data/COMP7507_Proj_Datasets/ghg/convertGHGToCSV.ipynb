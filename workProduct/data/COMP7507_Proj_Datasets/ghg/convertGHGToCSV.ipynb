{
 "cells": [
  {
   "cell_type": "markdown",
   "id": "bc02fe66",
   "metadata": {},
   "source": [
    "# Convert GHG Dataset to CSV"
   ]
  },
  {
   "cell_type": "code",
   "execution_count": 2,
   "id": "26a560f1",
   "metadata": {},
   "outputs": [],
   "source": [
    "import csv\n",
    "import json\n",
    "import os\n",
    "\n",
    "absJSONFilePath = os.path.join(os.getcwd(), \"greenhouse_gas_emissions_and_carbon_intensity.json\")\n",
    "absCSVFilePath = os.path.join(os.getcwd(), \"ghg.csv\")\n",
    "\n",
    "with open(absJSONFilePath, mode=\"r\") as inputFile:\n",
    "    data = json.loads(inputFile.read())\n",
    "    with open(absCSVFilePath, mode=\"w\", newline='') as outputFile:\n",
    "\n",
    "        fieldNames = [field for field in data[0]]\n",
    "        writer = csv.DictWriter(outputFile, fieldnames=fieldNames)\n",
    "        writer.writeheader()\n",
    "        for datapoint in data:\n",
    "            try:\n",
    "                writer.writerow(datapoint)\n",
    "            except Exception as e:\n",
    "                print(f\"Warning: .json to .csv Conversion Failure ({e})\")\n",
    "        outputFile.close()\n",
    "    inputFile.close()\n"
   ]
  }
 ],
 "metadata": {
  "kernelspec": {
   "display_name": "comp7507_proj_dataset_downloader",
   "language": "python",
   "name": "python3"
  },
  "language_info": {
   "codemirror_mode": {
    "name": "ipython",
    "version": 3
   },
   "file_extension": ".py",
   "mimetype": "text/x-python",
   "name": "python",
   "nbconvert_exporter": "python",
   "pygments_lexer": "ipython3",
   "version": "3.13.5"
  }
 },
 "nbformat": 4,
 "nbformat_minor": 5
}
