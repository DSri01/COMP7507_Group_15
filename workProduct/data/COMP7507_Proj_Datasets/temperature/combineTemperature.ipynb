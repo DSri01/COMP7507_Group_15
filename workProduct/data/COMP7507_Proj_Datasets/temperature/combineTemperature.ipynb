{
 "cells": [
  {
   "cell_type": "markdown",
   "id": "517dbd67",
   "metadata": {},
   "source": [
    "# Mean, Max, Min Temperature Combiner\n",
    "\n",
    "Python Version: 3.13.5"
   ]
  },
  {
   "cell_type": "code",
   "execution_count": 14,
   "id": "51e3ba16",
   "metadata": {},
   "outputs": [],
   "source": [
    "import os\n",
    "\n",
    "MAX_TEMP_FILE_PATH = os.path.join(os.getcwd(), \"files\", \"maxTemperature.jsonl\")\n",
    "MIN_TEMP_FILE_PATH = os.path.join(os.getcwd(), \"files\", \"minTemperature.jsonl\")\n",
    "MEAN_TEMP_FILE_PATH = os.path.join(os.getcwd(), \"files\", \"meanTemperature.jsonl\")"
   ]
  },
  {
   "cell_type": "code",
   "execution_count": 15,
   "id": "41b42bbc",
   "metadata": {},
   "outputs": [],
   "source": [
    "from pydantic import BaseModel\n",
    "from typing import Union, Literal\n",
    "\n",
    "class MeanTemperatureDataPoint(BaseModel):\n",
    "    year            :   int\n",
    "    month           :   int\n",
    "    day             :   int\n",
    "    station         :   str\n",
    "    value           :   Union[float, Literal[\"***\",]]\n",
    "    completeness    :   Literal[\"C\", \"#\", '']\n",
    "    \n",
    "    def key(self) -> str:\n",
    "        return f\"{self.station}/{self.year}/{self.month}/{self.day}\"\n",
    "\n",
    "class MaxTemperatureDataPoint(BaseModel):\n",
    "    year            :   int\n",
    "    month           :   int\n",
    "    day             :   int\n",
    "    station         :   str\n",
    "    value           :   Union[float, Literal[\"***\",]]\n",
    "    completeness    :   Literal[\"C\", \"#\", '']\n",
    "\n",
    "    def key(self) -> str:\n",
    "        return f\"{self.station}/{self.year}/{self.month}/{self.day}\"\n",
    "\n",
    "class MinTemperatureDataPoint(BaseModel):\n",
    "    year            :   int\n",
    "    month           :   int\n",
    "    day             :   int\n",
    "    station         :   str\n",
    "    value           :   Union[float, Literal[\"***\",]]\n",
    "    completeness    :   Literal[\"C\", \"#\", '']\n",
    "\n",
    "    def key(self) -> str:\n",
    "        return f\"{self.station}/{self.year}/{self.month}/{self.day}\"\n",
    "\n",
    "\n",
    "class CombinedTemperatureDataPoint(BaseModel):\n",
    "    year                    :   int\n",
    "    month                   :   int\n",
    "    day                     :   int\n",
    "    station                 :   str\n",
    "    minTemp                 :   Union[float, Literal[\"***\",]]\n",
    "    minTempCompleteness     :   Literal[\"C\", \"#\", '']\n",
    "    maxTemp                 :   Union[float, Literal[\"***\",]]\n",
    "    maxTempCompleteness     :   Literal[\"C\", \"#\", '']\n",
    "    meanTemp                :   Union[float, Literal[\"***\",]]\n",
    "    meanTempCompleteness    :   Literal[\"C\", \"#\", '']"
   ]
  },
  {
   "cell_type": "code",
   "execution_count": 16,
   "id": "b6a33eae",
   "metadata": {},
   "outputs": [],
   "source": [
    "import json\n",
    "\n",
    "def load_json_list_from_jsonl(absFilePath: str)-> list[dict]:\n",
    "    dataset: list[dict] = []\n",
    "    with open(absFilePath, mode=\"r\") as f:\n",
    "        lines = f.readlines()\n",
    "        for line in lines:\n",
    "            line = line[:-1]\n",
    "            dataset.append(json.loads(line))\n",
    "    return dataset\n",
    "\n",
    "def load_daily_mean_temperature_data_points(absFilePath: str) -> list[MeanTemperatureDataPoint]:\n",
    "    raw_dataset = load_json_list_from_jsonl(absFilePath)\n",
    "    mean_datapoint_list: list[MeanTemperatureDataPoint] = []\n",
    "    for datapoint in raw_dataset:\n",
    "        mean_datapoint_list.append(MeanTemperatureDataPoint(**datapoint))\n",
    "    return mean_datapoint_list\n",
    "\n",
    "def load_daily_min_temperature_data_points(absFilePath: str) -> list[MinTemperatureDataPoint]:\n",
    "    raw_dataset = load_json_list_from_jsonl(absFilePath)\n",
    "    mean_datapoint_list: list[MinTemperatureDataPoint] = []\n",
    "    for datapoint in raw_dataset:\n",
    "        mean_datapoint_list.append(MinTemperatureDataPoint(**datapoint))\n",
    "    return mean_datapoint_list\n",
    "\n",
    "def load_daily_max_temperature_data_points(absFilePath: str) -> list[MaxTemperatureDataPoint]:\n",
    "    raw_dataset = load_json_list_from_jsonl(absFilePath)\n",
    "    mean_datapoint_list: list[MaxTemperatureDataPoint] = []\n",
    "    for datapoint in raw_dataset:\n",
    "        mean_datapoint_list.append(MaxTemperatureDataPoint(**datapoint))\n",
    "    return mean_datapoint_list"
   ]
  },
  {
   "cell_type": "code",
   "execution_count": 17,
   "id": "38b1bf95",
   "metadata": {},
   "outputs": [],
   "source": [
    "mean_datapoint_list = load_daily_mean_temperature_data_points(MEAN_TEMP_FILE_PATH)\n",
    "min_datapoint_list = load_daily_min_temperature_data_points(MIN_TEMP_FILE_PATH)\n",
    "max_datapoint_list = load_daily_max_temperature_data_points(MAX_TEMP_FILE_PATH)"
   ]
  },
  {
   "cell_type": "code",
   "execution_count": 18,
   "id": "82e44838",
   "metadata": {},
   "outputs": [],
   "source": [
    "mean_datapoint_dict: dict[str, MeanTemperatureDataPoint] = dict()\n",
    "for mean_datapoint in mean_datapoint_list:\n",
    "    if mean_datapoint.key() in mean_datapoint_dict:\n",
    "        print(f\"Warning: Duplicate Mean Datapoint ({mean_datapoint.key()})\")\n",
    "    mean_datapoint_dict[mean_datapoint.key()] = mean_datapoint"
   ]
  },
  {
   "cell_type": "code",
   "execution_count": 19,
   "id": "2407e09b",
   "metadata": {},
   "outputs": [],
   "source": [
    "min_datapoint_dict: dict[str, MinTemperatureDataPoint] = dict()\n",
    "for min_datapoint in min_datapoint_list:\n",
    "    if min_datapoint.key() in min_datapoint_dict:\n",
    "        print(f\"Warning: Duplicate Min Datapoint ({min_datapoint.key()})\")\n",
    "    min_datapoint_dict[min_datapoint.key()] = min_datapoint"
   ]
  },
  {
   "cell_type": "code",
   "execution_count": 20,
   "id": "d6f33d9f",
   "metadata": {},
   "outputs": [],
   "source": [
    "combined_datapoint_list: list[CombinedTemperatureDataPoint] = []\n",
    "\n",
    "for max_datapoint in max_datapoint_list:\n",
    "    maxTemp = max_datapoint.value\n",
    "    maxTempCompleteness = max_datapoint.completeness\n",
    "    \n",
    "    minTemp = \"***\"\n",
    "    minTempCompleteness = \"#\"\n",
    "\n",
    "    meanTemp = \"***\"\n",
    "    meanTempCompleteness = \"#\"\n",
    "    \n",
    "    if max_datapoint.key() in min_datapoint_dict:\n",
    "        min_datapoint = min_datapoint_dict[max_datapoint.key()]\n",
    "        minTemp = min_datapoint.value\n",
    "        minTempCompleteness = min_datapoint.completeness\n",
    "    else:\n",
    "        print(f\"Warning: Min Datapoint Not Found ({max_datapoint.key()})\")\n",
    "\n",
    "    if max_datapoint.key() in mean_datapoint_dict:\n",
    "        mean_datapoint = mean_datapoint_dict[max_datapoint.key()]\n",
    "        meanTemp = mean_datapoint.value\n",
    "        meanTempCompleteness = mean_datapoint.completeness\n",
    "    else:\n",
    "        print(f\"Warning: Mean Datapoint Not Found ({max_datapoint.key()})\")\n",
    "    \n",
    "    combined_datapoint = CombinedTemperatureDataPoint(\n",
    "        year                = max_datapoint.year,\n",
    "        month               = max_datapoint.month,\n",
    "        day                 = max_datapoint.day,\n",
    "        station             = max_datapoint.station,\n",
    "        minTemp             = minTemp,\n",
    "        minTempCompleteness = minTempCompleteness,\n",
    "        maxTemp             = max_datapoint.value,\n",
    "        maxTempCompleteness = max_datapoint.completeness,\n",
    "        meanTemp            = meanTemp,\n",
    "        meanTempCompleteness = meanTempCompleteness)\n",
    "    \n",
    "    combined_datapoint_list.append(combined_datapoint)"
   ]
  },
  {
   "cell_type": "code",
   "execution_count": 21,
   "id": "36a99b81",
   "metadata": {},
   "outputs": [],
   "source": [
    "def save_datapoint_list(datapoint_list: list[BaseModel], absFilePath: str):\n",
    "    with open(absFilePath, mode=\"w\") as f:\n",
    "        for datapoint in datapoint_list:\n",
    "            f.write(datapoint.model_dump_json())\n",
    "            f.write(\"\\n\")\n",
    "        f.close()"
   ]
  },
  {
   "cell_type": "code",
   "execution_count": 22,
   "id": "438effe3",
   "metadata": {},
   "outputs": [],
   "source": [
    "import os\n",
    "\n",
    "saveFilePath = os.path.join(os.getcwd(), \"files\", \"combinedTemperature.jsonl\")\n",
    "save_datapoint_list(combined_datapoint_list, saveFilePath)"
   ]
  }
 ],
 "metadata": {
  "kernelspec": {
   "display_name": "comp7507_proj_dataset_downloader",
   "language": "python",
   "name": "python3"
  },
  "language_info": {
   "codemirror_mode": {
    "name": "ipython",
    "version": 3
   },
   "file_extension": ".py",
   "mimetype": "text/x-python",
   "name": "python",
   "nbconvert_exporter": "python",
   "pygments_lexer": "ipython3",
   "version": "3.13.5"
  }
 },
 "nbformat": 4,
 "nbformat_minor": 5
}
