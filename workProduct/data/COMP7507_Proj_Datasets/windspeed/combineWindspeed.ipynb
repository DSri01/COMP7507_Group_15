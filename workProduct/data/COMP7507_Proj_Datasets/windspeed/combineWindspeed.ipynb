{
 "cells": [
  {
   "cell_type": "markdown",
   "id": "c4ffaf0a",
   "metadata": {},
   "source": [
    "# Windspeed Dataset Combiner\n",
    "\n",
    "Python Version: 3.13.5"
   ]
  },
  {
   "cell_type": "code",
   "execution_count": 1,
   "id": "bbe84067",
   "metadata": {},
   "outputs": [],
   "source": [
    "import csv\n",
    "\n",
    "def read_csv_rows(absFilePath: str) -> list[list[str]]:\n",
    "    with open(absFilePath, mode = 'r') as f:\n",
    "        reader = csv.reader(f)\n",
    "        rows = []\n",
    "        for row in reader:\n",
    "            rows.append(row)\n",
    "        f.close()\n",
    "        return rows"
   ]
  },
  {
   "cell_type": "code",
   "execution_count": 2,
   "id": "7764ccab",
   "metadata": {},
   "outputs": [],
   "source": [
    "import os\n",
    "\n",
    "rawDataDirectory = os.path.join(os.getcwd(), \"rawData\")\n",
    "\n",
    "locationCodeTofilePathMap: dict[str, str] = dict()\n",
    "\n",
    "for fileName in os.listdir(rawDataDirectory):\n",
    "    filePath = os.path.join(rawDataDirectory, fileName)\n",
    "    if (not os.path.isfile(filePath)):\n",
    "        print(f\"Warning: non-file found in rawData path ({filePath}) \")\n",
    "        continue\n",
    "    # assuming that file name is of the format daily_***_WSPD_ALL.csv, where *** is the location code\n",
    "    first_underscore_index = fileName.find('_')\n",
    "    second_underscore_index = fileName.find('_',first_underscore_index+1)\n",
    "    if (first_underscore_index  == -1 or second_underscore_index == -1):\n",
    "        print(f\"Warning: file name not as expected ({fileName}), skipping file\")\n",
    "        continue\n",
    "    \n",
    "    locationCode = fileName[first_underscore_index+1: second_underscore_index]\n",
    "    if locationCode in locationCodeTofilePathMap:\n",
    "        print(f\"Warning: duplicate location code found ({locationCode}), skipping file\")\n",
    "        continue\n",
    "    locationCodeTofilePathMap[locationCode] = filePath"
   ]
  },
  {
   "cell_type": "code",
   "execution_count": 3,
   "id": "0aff94ef",
   "metadata": {},
   "outputs": [],
   "source": [
    "# import json\n",
    "# print(json.dumps(locationCodeTofilePathMap, indent = 2))"
   ]
  },
  {
   "cell_type": "code",
   "execution_count": 4,
   "id": "ec332276",
   "metadata": {},
   "outputs": [],
   "source": [
    "from typing import Literal, Union\n",
    "\n",
    "from pydantic import BaseModel\n",
    "\n",
    "class WindSpeedDatapoint(BaseModel):\n",
    "    year            :   int\n",
    "    month           :   int\n",
    "    day             :   int\n",
    "    locationName    :   str\n",
    "    locationCode    :   str\n",
    "    value           :   Union[float, Literal[\"***\", \"\"]]\n",
    "    completeness    :   Literal[\"C\", \"#\", '']"
   ]
  },
  {
   "cell_type": "code",
   "execution_count": 5,
   "id": "5b1c8b6f",
   "metadata": {},
   "outputs": [],
   "source": [
    "from typing import Literal, Union\n",
    "\n",
    "from pydantic import BaseModel\n",
    "\n",
    "class PartialWindSpeedDatapoint(BaseModel):\n",
    "    year            :   int\n",
    "    month           :   int\n",
    "    day             :   int\n",
    "    value           :   Union[float, Literal[\"***\", \"\"]]\n",
    "    completeness    :   Literal[\"C\", \"#\", '']\n",
    "\n",
    "def load_partial_datapoint_from_row(row: list[str]) -> PartialWindSpeedDatapoint:\n",
    "    return PartialWindSpeedDatapoint(year = row[0],\n",
    "                                    month= row[1],\n",
    "                                    day  = row[2],\n",
    "                                    value= row[3],\n",
    "                                    completeness=row[4])\n",
    "\n",
    "def extractLocationNameFromLocationRow(row: list[str]) -> str:\n",
    "    return row[0][25:].strip()\n",
    "\n",
    "def load_datapoint_list_from_rows(rows: list[list[str]], locationCode: str)->list[WindSpeedDatapoint]:\n",
    "    windspeed_datapoint_list: list[WindSpeedDatapoint] = []\n",
    "    locationName = extractLocationNameFromLocationRow(rows[1])\n",
    "    for row in rows[3:]:\n",
    "        if len(row) < 5:\n",
    "            continue\n",
    "        partial_datapoint = load_partial_datapoint_from_row(row)\n",
    "        datapoint = WindSpeedDatapoint(year=partial_datapoint.year,\n",
    "                                      month=partial_datapoint.month,\n",
    "                                      day=partial_datapoint.day,\n",
    "                                      locationName=locationName,\n",
    "                                      locationCode=locationCode,\n",
    "                                      value=partial_datapoint.value,\n",
    "                                      completeness=partial_datapoint.completeness)\n",
    "        windspeed_datapoint_list.append(datapoint)\n",
    "    \n",
    "    return windspeed_datapoint_list"
   ]
  },
  {
   "cell_type": "code",
   "execution_count": 6,
   "id": "8f85326b",
   "metadata": {},
   "outputs": [],
   "source": [
    "combined_datapoint_list: list[WindSpeedDatapoint] = []\n",
    "\n",
    "for locationCode in locationCodeTofilePathMap:\n",
    "    rows = read_csv_rows(locationCodeTofilePathMap[locationCode])\n",
    "    datapoint_list = load_datapoint_list_from_rows(rows, locationCode)\n",
    "    combined_datapoint_list.extend(datapoint_list)"
   ]
  },
  {
   "cell_type": "code",
   "execution_count": 7,
   "id": "822ef8c7",
   "metadata": {},
   "outputs": [],
   "source": [
    "def save_datapoint_list(datapoint_list: list[BaseModel], absFilePath: str):\n",
    "    with open(absFilePath, mode=\"w\") as f:\n",
    "        for datapoint in datapoint_list:\n",
    "            f.write(datapoint.model_dump_json())\n",
    "            f.write(\"\\n\")\n",
    "        f.close()"
   ]
  },
  {
   "cell_type": "code",
   "execution_count": 8,
   "id": "e2b860a5",
   "metadata": {},
   "outputs": [],
   "source": [
    "import os\n",
    "\n",
    "saveFilePath = os.path.join(os.getcwd(), \"cleaned\", \"combinedWindSpeed.jsonl\")\n",
    "save_datapoint_list(combined_datapoint_list, saveFilePath)"
   ]
  }
 ],
 "metadata": {
  "kernelspec": {
   "display_name": "comp7507_proj_dataset_downloader",
   "language": "python",
   "name": "python3"
  },
  "language_info": {
   "codemirror_mode": {
    "name": "ipython",
    "version": 3
   },
   "file_extension": ".py",
   "mimetype": "text/x-python",
   "name": "python",
   "nbconvert_exporter": "python",
   "pygments_lexer": "ipython3",
   "version": "3.13.5"
  }
 },
 "nbformat": 4,
 "nbformat_minor": 5
}
